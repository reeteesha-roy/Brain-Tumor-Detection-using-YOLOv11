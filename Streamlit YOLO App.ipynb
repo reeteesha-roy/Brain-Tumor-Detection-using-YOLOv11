{
 "cells": [
  {
   "cell_type": "code",
   "execution_count": 1,
   "id": "819c6098-e7ef-4eb1-9d3a-7783eb069070",
   "metadata": {},
   "outputs": [
    {
     "name": "stdout",
     "output_type": "stream",
     "text": [
      "Overwriting app.py\n"
     ]
    }
   ],
   "source": [
    "%%writefile app.py\n",
    "import streamlit as st\n",
    "from PIL import Image\n",
    "from ultralytics import YOLO\n",
    "import os\n",
    "\n",
    "# Load the trained YOLO model\n",
    "model_path = \"C:/Users/R. ROY/runs/detect/train3/weights/best.pt\"  # Path to your saved model weights\n",
    "model = YOLO(model_path)\n",
    "\n",
    "# Streamlit UI\n",
    "st.title(\"Brain Tumor Detection using YOLOv11\")\n",
    "st.write(\"Upload an MRI image to detect tumors.\")\n",
    "\n",
    "# Image uploader\n",
    "uploaded_image = st.file_uploader(\"Choose an MRI image...\", type=[\"jpg\", \"jpeg\", \"png\"])\n",
    "\n",
    "if uploaded_image is not None:\n",
    "    # Display the uploaded image\n",
    "    image = Image.open(uploaded_image)\n",
    "    st.image(image, caption=\"Uploaded Image\", use_container_width=True)\n",
    "\n",
    "    # Save the uploaded image temporarily\n",
    "    temp_image_path = \"temp_image.png\"\n",
    "    image.save(temp_image_path)\n",
    "\n",
    "    # Run the model prediction\n",
    "    st.write(\"Detecting tumor...\")\n",
    "    \n",
    "    try:\n",
    "        # Perform inference\n",
    "        results = model(temp_image_path)\n",
    "\n",
    "        # Create output directory if it doesn't exist\n",
    "        output_dir = \"outputs\"\n",
    "        if not os.path.exists(output_dir):\n",
    "            os.makedirs(output_dir)\n",
    "\n",
    "        # Iterate over the results and save\n",
    "        for result in results:  # results is a list\n",
    "            result.save(filename=os.path.join(output_dir, \"detection_result.png\"))\n",
    "        \n",
    "        output_image_path = os.path.join(output_dir, \"detection_result.png\")\n",
    "\n",
    "        # Check if the output image was saved successfully\n",
    "        if os.path.exists(output_image_path):\n",
    "            # Display the detection result\n",
    "            st.image(output_image_path, caption=\"Detection Results\", use_container_width=True)\n",
    "            st.success(\"Tumor detection completed!\")\n",
    "        else:\n",
    "            st.error(\"Error: Detection result not found.\")\n",
    "    \n",
    "    except Exception as e:\n",
    "        st.error(f\"An error occurred during detection: {e}\")\n"
   ]
  },
  {
   "cell_type": "code",
   "execution_count": null,
   "id": "05be42d6-0b9d-4e05-966a-c5f974d0d4d8",
   "metadata": {},
   "outputs": [],
   "source": [
    "!streamlit run app.py"
   ]
  },
  {
   "cell_type": "code",
   "execution_count": null,
   "id": "6ec15117-f6d8-44a8-b5e4-1274c95a3193",
   "metadata": {},
   "outputs": [],
   "source": []
  }
 ],
 "metadata": {
  "kernelspec": {
   "display_name": "Python 3 (ipykernel)",
   "language": "python",
   "name": "python3"
  },
  "language_info": {
   "codemirror_mode": {
    "name": "ipython",
    "version": 3
   },
   "file_extension": ".py",
   "mimetype": "text/x-python",
   "name": "python",
   "nbconvert_exporter": "python",
   "pygments_lexer": "ipython3",
   "version": "3.12.0"
  }
 },
 "nbformat": 4,
 "nbformat_minor": 5
}
